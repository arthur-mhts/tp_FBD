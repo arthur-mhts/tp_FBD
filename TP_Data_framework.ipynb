{
 "cells": [
  {
   "cell_type": "markdown",
   "metadata": {},
   "source": [
    "\n",
    "## Change directory\n",
    "$ cd kafka_2.13-3.9.0\n",
    "\n",
    "## Start ZooKeeper\n",
    "$ bin/zookeeper-server-start.sh config/zookeeper.properties\n",
    "\n",
    "## Start Kafka\n",
    "$ bin/kafka-server-start.sh config/server.properties\n"
   ]
  },
  {
   "cell_type": "markdown",
   "metadata": {},
   "source": [
    "\n",
    "## Create topic first_kafka_topic\n",
    "$ bin/kafka-topics.sh --create --topic first_kafka_topic --bootstrap-server localhost:9092 --partitions 1 --replication-factor 1\n",
    "\n",
    "## Opening the producer and consummer\n",
    "\n",
    "$ bin/kafka-console-producer.sh --topic first_kafka_topic --bootstrap-server localhost:9092\n",
    "\n",
    "$ bin/kafka-console-consumer.sh --topic first_kafka_topic --bootstrap-server localhost:9092\n",
    "\n",
    "![Screenshot de mon tableau final](/workspaces/tp_FBD/Capture1.png)"
   ]
  },
  {
   "cell_type": "markdown",
   "metadata": {},
   "source": [
    "\n",
    "## Création d'un nouveau topic \n",
    "$ bin/kafka-topics.sh --create --topic second_kafka_topic --bootstrap-server localhost:9092 --partitions 1 --replication-factor 1\n",
    "\n",
    "![Screenshot de mon tableau final](/workspaces/tp_FBD/Capture2.png)"
   ]
  },
  {
   "cell_type": "markdown",
   "metadata": {},
   "source": [
    "## Lister tous les topics \n",
    "\n",
    "$ bin/kafka-topics.sh --list --bootstrap-server localhost:9092\n",
    "![Screenshot de mon tableau final](/workspaces/tp_FBD/Capture7.png)"
   ]
  },
  {
   "cell_type": "markdown",
   "metadata": {},
   "source": [
    "## Dans un premier temps création du producer \n",
    "\n",
    "$ bin/kafka-console-producer.sh --topic second_kafka_topic --bootstrap-server localhost:9092 --property parse.key=true \n",
    "\n",
    "puis on écrit dedans\n",
    "![Screenshot de mon tableau final](/workspaces/tp_FBD/Capture3.png)\n",
    "On voit ici une erreur car je n'ai pas mis la clé\n",
    "\n",
    "Je refais en précisant la clé pour éviter l'erreur \\n\n",
    "$ bin/kafka-console-producer.sh --topic second_kafka_topic --bootstrap-server localhost:9092 --property parse.key=true --property key.separator=:\n",
    "![Screenshot de mon tableau final](/workspaces/tp_FBD/Capture4.png)\n",
    "Il n'y a plus l'erreur\n",
    "\n",
    "## Dans un second temps, création du consumer\n",
    "$ bin/kafka-console-consumer.sh --topic second_kafka_topic --bootstrap-server localhost:9092 --property print.key=true\n",
    "\n",
    "puis on écrit dans le producer\n",
    "![Screenshot de mon tableau final](/workspaces/tp_FBD/Capture5.png)\n",
    "\n",
    "On voit bien que seuls les messages envoyés après la création du consumer apparaissent en réponse\n"
   ]
  },
  {
   "cell_type": "markdown",
   "metadata": {},
   "source": [
    "## Maintenant on reouvre le consumer mais en ajoutant from-beginning\n",
    "\n",
    "$ bin/kafka-console-consumer.sh --topic second_kafka_topic --bootstrap-server localhost:9092 --property print.key=true --from-beginning\n",
    "\n",
    "![Screenshot de mon tableau final](/workspaces/tp_FBD/Capture6.png)\n",
    "\n",
    "Et là on a bien tous les messages envoyés depuis le début de la création du producer\n"
   ]
  },
  {
   "cell_type": "markdown",
   "metadata": {},
   "source": []
  }
 ],
 "metadata": {
  "language_info": {
   "name": "python"
  }
 },
 "nbformat": 4,
 "nbformat_minor": 2
}
